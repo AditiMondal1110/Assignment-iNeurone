{
 "cells": [
  {
   "cell_type": "code",
   "execution_count": 1,
   "id": "maritime-verification",
   "metadata": {},
   "outputs": [
    {
     "name": "stderr",
     "output_type": "stream",
     "text": [
      "c:\\users\\hp\\miniconda3\\lib\\site-packages\\requests\\__init__.py:89: RequestsDependencyWarning: urllib3 (1.26.11) or chardet (3.0.4) doesn't match a supported version!\n",
      "  warnings.warn(\"urllib3 ({}) or chardet ({}) doesn't match a supported \"\n"
     ]
    }
   ],
   "source": [
    "import selenium  \n",
    "from selenium import webdriver\n",
    "from selenium.webdriver.common.keys import Keys\n",
    "import time\n",
    "import requests\n",
    "import json\n",
    "from bs4 import BeautifulSoup,NavigableString, Tag\n",
    "import datetime\n"
   ]
  },
  {
   "cell_type": "code",
   "execution_count": 4,
   "id": "heard-listening",
   "metadata": {
    "scrolled": false
   },
   "outputs": [
    {
     "name": "stderr",
     "output_type": "stream",
     "text": [
      "<ipython-input-4-44a9c7243ed1>:1: DeprecationWarning: executable_path has been deprecated, please pass in a Service object\n",
      "  wd  = webdriver.Chrome(r\"C:\\\\Users\\\\HP\\\\Chrome_driver\\\\chromedriver_win32\\\\chromedriver.exe\")\n"
     ]
    },
    {
     "name": "stdout",
     "output_type": "stream",
     "text": [
      "https://www.plattershare.com/recipe/keto-cheesy-balls-cheesy-pakoda/\n",
      "https://www.plattershare.com/recipe/chandiya/\n",
      "https://www.plattershare.com/recipe/wheat-grass-amaranth-waffles/\n",
      "https://www.plattershare.com/recipe/rajasthani-churma-recipe-malida-recipe-marwadi-churma-churma-recipe/\n",
      "https://www.plattershare.com/recipe/no-bake-chocolate-tart/\n",
      "https://www.plattershare.com/recipe/chickpeas-gravy/\n",
      "https://www.plattershare.com/recipe/two-minute-microwave-chocolate-chip-and-nuts-cookies/\n",
      "https://www.plattershare.com/recipe/kerela-spicy-chicken-fry/\n",
      "https://www.plattershare.com/recipe/sprouted-moong-with-green-veggies/\n",
      "https://www.plattershare.com/recipe/shahi-paneer-2/\n",
      "https://www.plattershare.com/recipe/this-kacche-aam-ki-dal-is-made-andhra-style-with-garlic-tempering-and-is-known-as-mamidikaya-pappu-in-local-language-it-would-be-hard-for-me-to-imagine-this-dish-without-garlic-since-that-brings-in-a/\n",
      "https://www.plattershare.com/recipe/cleansing-cucumber-carrot-juice-recipe/\n",
      "https://www.plattershare.com/recipe/aloo-palak-tikka-chat/\n",
      "https://www.plattershare.com/recipe/methi-nu-lotiyu/\n",
      "https://www.plattershare.com/recipe/lettuce-wraps/\n",
      "https://www.plattershare.com/recipe/chicken-pulav/\n",
      "https://www.plattershare.com/recipe/shrikhand-paneer-delight/\n",
      "https://www.plattershare.com/recipe/orange-iced-tea-my-version-used-black-tea-cubes-which-slowly-dissolves-in-juice-and-give-the-add-awsome-ginger-tea-flavours-to-it/\n",
      "https://www.plattershare.com/recipe/coconut-panna-cotta-with-orange-reduction/\n",
      "https://www.plattershare.com/recipe/red-chilli-tender-coconut-pulp-paalada-dessert/\n",
      "https://www.plattershare.com/recipe/dal-makhani-tarts/\n",
      "https://www.plattershare.com/recipe/banana-shake/\n",
      "https://www.plattershare.com/recipe/cookie-with-healthy-twist/\n",
      "https://www.plattershare.com/recipe/spiced-cucumber-and-raw-mango-recipe/\n",
      "https://www.plattershare.com/recipe/namkeen-lassi/\n",
      "https://www.plattershare.com/recipe/idli-sandwich/\n",
      "https://www.plattershare.com/recipe/mango-raitaaambyacha-raita/\n",
      "https://www.plattershare.com/recipe/arrowroot-oats-badam/\n",
      "https://www.plattershare.com/recipe/dahi-bhalla-0/\n",
      "https://www.plattershare.com/recipe/masala-papad-9/\n",
      "https://www.plattershare.com/recipe/bread-icecream-cake/\n"
     ]
    }
   ],
   "source": [
    "wd  = webdriver.Chrome(r\"C:\\\\Users\\\\HP\\\\Chrome_driver\\\\chromedriver_win32\\\\chromedriver.exe\")\n",
    "wd.maximize_window()\n",
    "wd.get(\"https://www.plattershare.com/recipe/\")\n",
    "headers = {'User-Agent': 'Mozilla/5.0 (X11; Ubuntu; Linux x86_64; rv:80.0) Gecko/20100101 Firefox/80.0'}\n",
    "\n",
    "wd.execute_script(\"window.scrollTo(0, document.body.scrollHeight);\")\n",
    "time.sleep(5)#sleep_between_interactions\n",
    "\n",
    "# wd.find_element('class name',\"view-more-button\").click()\n",
    "\n",
    "recipe_link = []\n",
    "\n",
    "i = 1\n",
    "\n",
    "\n",
    "# for r in range(1,300):\n",
    "for r in range(1,100):\n",
    "    if i %1==0:\n",
    "        r = r+1\n",
    "        desc = wd.find_elements(\"xpath\",f'/html/body/div[2]/section/div/div/div/section[2]/div/div/div/div/div/div[2]/div[1]/article['+ str(r) +']/div/div/div/section/div/div/div/div[1]/div/div/div/a')\n",
    "\n",
    "\n",
    "    for test in desc:\n",
    "        try:\n",
    "\n",
    "            print(test.get_attribute(\"href\"))\n",
    "\n",
    "            recipe_link.append(test.get_attribute(\"href\"))\n",
    "\n",
    "\n",
    "        except:\n",
    "            print(\"yyyy\")\n",
    "\n",
    "i = i+1"
   ]
  },
  {
   "cell_type": "code",
   "execution_count": 5,
   "id": "inner-insight",
   "metadata": {},
   "outputs": [
    {
     "data": {
      "text/plain": [
       "['https://www.plattershare.com/recipe/keto-cheesy-balls-cheesy-pakoda/',\n",
       " 'https://www.plattershare.com/recipe/chandiya/',\n",
       " 'https://www.plattershare.com/recipe/wheat-grass-amaranth-waffles/',\n",
       " 'https://www.plattershare.com/recipe/rajasthani-churma-recipe-malida-recipe-marwadi-churma-churma-recipe/',\n",
       " 'https://www.plattershare.com/recipe/no-bake-chocolate-tart/',\n",
       " 'https://www.plattershare.com/recipe/chickpeas-gravy/',\n",
       " 'https://www.plattershare.com/recipe/two-minute-microwave-chocolate-chip-and-nuts-cookies/',\n",
       " 'https://www.plattershare.com/recipe/kerela-spicy-chicken-fry/',\n",
       " 'https://www.plattershare.com/recipe/sprouted-moong-with-green-veggies/',\n",
       " 'https://www.plattershare.com/recipe/shahi-paneer-2/',\n",
       " 'https://www.plattershare.com/recipe/this-kacche-aam-ki-dal-is-made-andhra-style-with-garlic-tempering-and-is-known-as-mamidikaya-pappu-in-local-language-it-would-be-hard-for-me-to-imagine-this-dish-without-garlic-since-that-brings-in-a/',\n",
       " 'https://www.plattershare.com/recipe/cleansing-cucumber-carrot-juice-recipe/',\n",
       " 'https://www.plattershare.com/recipe/aloo-palak-tikka-chat/',\n",
       " 'https://www.plattershare.com/recipe/methi-nu-lotiyu/',\n",
       " 'https://www.plattershare.com/recipe/lettuce-wraps/',\n",
       " 'https://www.plattershare.com/recipe/chicken-pulav/',\n",
       " 'https://www.plattershare.com/recipe/shrikhand-paneer-delight/',\n",
       " 'https://www.plattershare.com/recipe/orange-iced-tea-my-version-used-black-tea-cubes-which-slowly-dissolves-in-juice-and-give-the-add-awsome-ginger-tea-flavours-to-it/',\n",
       " 'https://www.plattershare.com/recipe/coconut-panna-cotta-with-orange-reduction/',\n",
       " 'https://www.plattershare.com/recipe/red-chilli-tender-coconut-pulp-paalada-dessert/',\n",
       " 'https://www.plattershare.com/recipe/dal-makhani-tarts/',\n",
       " 'https://www.plattershare.com/recipe/banana-shake/',\n",
       " 'https://www.plattershare.com/recipe/cookie-with-healthy-twist/',\n",
       " 'https://www.plattershare.com/recipe/spiced-cucumber-and-raw-mango-recipe/',\n",
       " 'https://www.plattershare.com/recipe/namkeen-lassi/',\n",
       " 'https://www.plattershare.com/recipe/idli-sandwich/',\n",
       " 'https://www.plattershare.com/recipe/mango-raitaaambyacha-raita/',\n",
       " 'https://www.plattershare.com/recipe/arrowroot-oats-badam/',\n",
       " 'https://www.plattershare.com/recipe/dahi-bhalla-0/',\n",
       " 'https://www.plattershare.com/recipe/masala-papad-9/',\n",
       " 'https://www.plattershare.com/recipe/bread-icecream-cake/']"
      ]
     },
     "execution_count": 5,
     "metadata": {},
     "output_type": "execute_result"
    }
   ],
   "source": [
    "recipe_link"
   ]
  },
  {
   "cell_type": "code",
   "execution_count": 6,
   "id": "raised-leone",
   "metadata": {},
   "outputs": [],
   "source": [
    "data = json.dumps(recipe_link)\n",
    "            \n",
    "with open(f\"recipe3.json\", \"w\") as outfile:\n",
    "    outfile.write(data)"
   ]
  },
  {
   "cell_type": "code",
   "execution_count": null,
   "id": "arctic-galaxy",
   "metadata": {},
   "outputs": [],
   "source": []
  },
  {
   "cell_type": "code",
   "execution_count": null,
   "id": "entitled-genome",
   "metadata": {},
   "outputs": [],
   "source": []
  }
 ],
 "metadata": {
  "kernelspec": {
   "display_name": "Python 3",
   "language": "python",
   "name": "python3"
  },
  "language_info": {
   "codemirror_mode": {
    "name": "ipython",
    "version": 3
   },
   "file_extension": ".py",
   "mimetype": "text/x-python",
   "name": "python",
   "nbconvert_exporter": "python",
   "pygments_lexer": "ipython3",
   "version": "3.8.5"
  }
 },
 "nbformat": 4,
 "nbformat_minor": 5
}
